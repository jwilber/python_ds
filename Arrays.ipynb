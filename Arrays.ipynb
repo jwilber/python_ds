{
 "cells": [
  {
   "cell_type": "markdown",
   "metadata": {},
   "source": [
    "# Dynamic Arrays"
   ]
  },
  {
   "cell_type": "code",
   "execution_count": 3,
   "metadata": {
    "collapsed": false
   },
   "outputs": [
    {
     "name": "stdout",
     "output_type": "stream",
     "text": [
      "Length:   0; Size in bytes:   72\n",
      "Length:   1; Size in bytes:  104\n",
      "Length:   2; Size in bytes:  104\n",
      "Length:   3; Size in bytes:  104\n",
      "Length:   4; Size in bytes:  104\n",
      "Length:   5; Size in bytes:  136\n",
      "Length:   6; Size in bytes:  136\n",
      "Length:   7; Size in bytes:  136\n",
      "Length:   8; Size in bytes:  136\n",
      "Length:   9; Size in bytes:  200\n",
      "Length:  10; Size in bytes:  200\n",
      "Length:  11; Size in bytes:  200\n",
      "Length:  12; Size in bytes:  200\n",
      "Length:  13; Size in bytes:  200\n",
      "Length:  14; Size in bytes:  200\n",
      "Length:  15; Size in bytes:  200\n",
      "Length:  16; Size in bytes:  200\n",
      "Length:  17; Size in bytes:  272\n",
      "Length:  18; Size in bytes:  272\n",
      "Length:  19; Size in bytes:  272\n",
      "Length:  20; Size in bytes:  272\n",
      "Length:  21; Size in bytes:  272\n",
      "Length:  22; Size in bytes:  272\n",
      "Length:  23; Size in bytes:  272\n",
      "Length:  24; Size in bytes:  272\n"
     ]
    }
   ],
   "source": [
    "# Demonstrate how dynamic arrays store memory in python via ammortization \n",
    "\n",
    "import sys\n",
    "\n",
    "# set n\n",
    "n = 25\n",
    "\n",
    "data = []\n",
    "\n",
    "for i in range(n):\n",
    "    \n",
    "    # num elements\n",
    "    a = len(data)\n",
    "    \n",
    "    # Actual size in bytes\n",
    "    b = sys.getsizeof(data)\n",
    "    \n",
    "    print 'Length: {0:3d}; Size in bytes: {1:4d}'.format(a,b)\n",
    "    \n",
    "    data.append(n)"
   ]
  },
  {
   "cell_type": "markdown",
   "metadata": {},
   "source": [
    "Python will set the number of available bytes larger than it currently needs while it's appending new elements to the array. It adds them in chunks.\n",
    "\n",
    "* Memory-usage chunks, so it doesn't need to do incrementally for every element."
   ]
  },
  {
   "cell_type": "markdown",
   "metadata": {},
   "source": [
    "# Dynamic Array Implementation"
   ]
  },
  {
   "cell_type": "markdown",
   "metadata": {},
   "source": [
    "Must provide a means to code the array"
   ]
  },
  {
   "cell_type": "code",
   "execution_count": 12,
   "metadata": {
    "collapsed": false
   },
   "outputs": [
    {
     "name": "stdout",
     "output_type": "stream",
     "text": [
      "Use Tab to see me!\n"
     ]
    }
   ],
   "source": [
    "# public vs private methods: use _ before method name to make it private\n",
    "class M(object):\n",
    "    \n",
    "    def public(self):\n",
    "        print 'Use Tab to see me!'\n",
    "        \n",
    "    def _private(self):\n",
    "        print 'you cant use tab to see me!'\n",
    "        \n",
    "test = M()\n",
    "test.public()"
   ]
  },
  {
   "cell_type": "markdown",
   "metadata": {},
   "source": [
    "# Dynamic Array Implementation"
   ]
  },
  {
   "cell_type": "code",
   "execution_count": 19,
   "metadata": {
    "collapsed": false
   },
   "outputs": [],
   "source": [
    "import ctypes\n",
    "\n",
    "class DynamicArray(object):\n",
    "    \n",
    "    def __init__(self):\n",
    "        self.n = 0\n",
    "        self.capacity = 1\n",
    "        self.A = self.make_array(self.capacity)\n",
    "        \n",
    "    def __len__(self):\n",
    "        # returns self.n, number of elements in array\n",
    "        return self.n\n",
    "    \n",
    "    def __getitem__(self, k):\n",
    "        \"\"\"Return element at index k\"\"\"\n",
    "        if not 0 <= k < self.n:\n",
    "            return IndexError('k is out of bounds!')\n",
    "        return self.A[k]\n",
    "    \n",
    "    def append(self, elmnt):\n",
    "        \"\"\"elmnt: element.\n",
    "        Adds ele to end of array\"\"\"\n",
    "        if self.n == self.capacity: # if capacity full, resize and double it\n",
    "             self._resize(2 * self.capacity) \n",
    "        self.A[self.n] = elmnt  # set final element equal to new element\n",
    "        self.n += 1     # add 1 to count\n",
    "        \n",
    "    def _resize(self, new_cap):\n",
    "        \"\"\"Resizes the internal array to new_cap\"\"\"\n",
    "        \n",
    "        # make new, bigger array and call it B\n",
    "        B = self.make_array(new_cap)  \n",
    "        \n",
    "        for k in range(self.n): # for every reference in A\n",
    "            B[k] = self.A[k]        # create new reference for element in B\n",
    "            \n",
    "        self.A = B\n",
    "        self.capacity = new_cap\n",
    "        \n",
    "    def make_array(self, new_cap):\n",
    "        \"\"\"Returns new RAW array with new_cap capacity\"\"\"\n",
    "        \n",
    "        return (new_cap * ctypes.py_object)()\n",
    "        "
   ]
  },
  {
   "cell_type": "code",
   "execution_count": 23,
   "metadata": {
    "collapsed": true
   },
   "outputs": [],
   "source": [
    "r = DynamicArray()"
   ]
  },
  {
   "cell_type": "code",
   "execution_count": 24,
   "metadata": {
    "collapsed": false
   },
   "outputs": [
    {
     "data": {
      "text/plain": [
       "1"
      ]
     },
     "execution_count": 24,
     "metadata": {},
     "output_type": "execute_result"
    }
   ],
   "source": [
    "r.append(1)\n",
    "len(r)"
   ]
  },
  {
   "cell_type": "code",
   "execution_count": 25,
   "metadata": {
    "collapsed": false
   },
   "outputs": [
    {
     "data": {
      "text/plain": [
       "1"
      ]
     },
     "execution_count": 25,
     "metadata": {},
     "output_type": "execute_result"
    }
   ],
   "source": [
    "r[0]"
   ]
  },
  {
   "cell_type": "code",
   "execution_count": 40,
   "metadata": {
    "collapsed": false
   },
   "outputs": [
    {
     "name": "stdout",
     "output_type": "stream",
     "text": [
      "n:  1\n",
      "capacity:  1\n",
      "n:  2\n",
      "capacity:  2\n",
      "n:  3\n",
      "capacity:  4\n",
      "n:  4\n",
      "capacity:  4\n",
      "n:  5\n",
      "capacity:  8\n",
      "n:  6\n",
      "capacity:  8\n",
      "n:  7\n",
      "capacity:  8\n",
      "n:  8\n",
      "capacity:  8\n"
     ]
    }
   ],
   "source": [
    "add_to_array = [1,2,4,4,8,8,8,8]\n",
    "arry = DynamicArray()\n",
    "for i in add_to_array:\n",
    "    arry.append(i)\n",
    "    print \"n: \", arry.n\n",
    "    print \"capacity: \", arry.capacity\n",
    "    "
   ]
  },
  {
   "cell_type": "markdown",
   "metadata": {},
   "source": [
    "# Practice Problems"
   ]
  },
  {
   "cell_type": "markdown",
   "metadata": {},
   "source": [
    "# Problem 1\n",
    "\n",
    "###  Given two strings, check to see if they are anagrams. An anagram is when the two strings can be written using the exact same letters (so you can just rearrange the letters to get a different phrase or word)."
   ]
  },
  {
   "cell_type": "code",
   "execution_count": 55,
   "metadata": {
    "collapsed": false
   },
   "outputs": [],
   "source": [
    "import string\n",
    "def is_anagram(s1, s2):\n",
    "    \"\"\"Determins if two strings, s1 and s2, are anagrams of each other\"\"\"\n",
    "    \n",
    "    # remove whitespace\n",
    "    s1, s2 = s1.strip(), s2.strip()\n",
    "    s1, s2 = s1.replace(\" \", \"\"), s2.replace(\" \", \"\")\n",
    "    \n",
    "    # remove punctuation\n",
    "    s1, s2 = s1.translate(None, string.punctuation), s2.translate(None, string.punctuation)\n",
    "    # or exclude = set(string.punctuation); s1 = \"\".join(n for n in s1 if n not in exclude)\n",
    "    \n",
    "    # convert to lowercase\n",
    "    s1,s2 = s1.lower(), s2.lower()\n",
    "    \n",
    "    # sort characters\n",
    "    s1, s2 = ''.join(sorted(s1)), ''.join(sorted(s2))\n",
    "    \n",
    "    \n",
    "    return s1==s2"
   ]
  },
  {
   "cell_type": "code",
   "execution_count": 56,
   "metadata": {
    "collapsed": false
   },
   "outputs": [
    {
     "data": {
      "text/plain": [
       "True"
      ]
     },
     "execution_count": 56,
     "metadata": {},
     "output_type": "execute_result"
    }
   ],
   "source": [
    "is_anagram(\"te t\", \"ett\")"
   ]
  },
  {
   "cell_type": "code",
   "execution_count": 57,
   "metadata": {
    "collapsed": false
   },
   "outputs": [
    {
     "data": {
      "text/plain": [
       "True"
      ]
     },
     "execution_count": 57,
     "metadata": {},
     "output_type": "execute_result"
    }
   ],
   "source": [
    "is_anagram('clint eastwood', 'old West action')"
   ]
  },
  {
   "cell_type": "code",
   "execution_count": 60,
   "metadata": {
    "collapsed": false
   },
   "outputs": [
    {
     "name": "stdout",
     "output_type": "stream",
     "text": [
      "ALL TEST CASES PASSED\n"
     ]
    }
   ],
   "source": [
    "# test cell\n",
    "from nose.tools import assert_equal\n",
    "class AnagramTest(object):\n",
    "    \n",
    "    def test(self, func):\n",
    "        assert_equal(func('go go go','gggooo'),True)\n",
    "        assert_equal(func('abc','cba'),True)\n",
    "        assert_equal(func('hi man','hi     man'),True)\n",
    "        assert_equal(func('aabbcc','aabbc'),False)\n",
    "        assert_equal(func('123','1 2'),False)\n",
    "        print \"ALL TEST CASES PASSED\"\n",
    "        \n",
    "t = AnagramTest()\n",
    "t.test(is_anagram)"
   ]
  },
  {
   "cell_type": "markdown",
   "metadata": {},
   "source": [
    "# Problem 2\n",
    "\n",
    "### Given an integer array, output all the unique pairs that sum up to a specific value k.\n",
    "\n",
    "So the input:\n",
    "\n",
    "pair_sum([1,3,2,2],4)\n",
    "\n",
    "would return 2 pairs:\n",
    "\n",
    " (1,3)\n",
    " (2,2)"
   ]
  },
  {
   "cell_type": "code",
   "execution_count": 96,
   "metadata": {
    "collapsed": true
   },
   "outputs": [],
   "source": [
    "def unique_pairs2(int_array, k):\n",
    "    \"\"\"Identifies all pairs in int_array that sum to k\"\"\"\n",
    "    \n",
    "    if len(int_array) < 2:\n",
    "        print \"no possible pairs\"\n",
    "        return \n",
    "    \n",
    "    seen = set()\n",
    "    pairs = set()\n",
    "    \n",
    "    for i in int_array:\n",
    "        \n",
    "        complement = k - i\n",
    "        \n",
    "        if complement not in seen:\n",
    "            seen.add(i)\n",
    "        \n",
    "        else:\n",
    "            pairs.add( (i, complement))\n",
    "            \n",
    "    return len(pairs)\n",
    "    \n",
    "    "
   ]
  },
  {
   "cell_type": "code",
   "execution_count": 97,
   "metadata": {
    "collapsed": false
   },
   "outputs": [
    {
     "data": {
      "text/plain": [
       "1"
      ]
     },
     "execution_count": 97,
     "metadata": {},
     "output_type": "execute_result"
    }
   ],
   "source": [
    "unique_pairs2([1,2,3,4],7)"
   ]
  },
  {
   "cell_type": "code",
   "execution_count": 99,
   "metadata": {
    "collapsed": false
   },
   "outputs": [
    {
     "name": "stdout",
     "output_type": "stream",
     "text": [
      "ALL TEST CASES PASSED\n"
     ]
    }
   ],
   "source": [
    "from nose.tools import assert_equal\n",
    "\n",
    "class TestPair(object):\n",
    "    \n",
    "    def test(self,sol):\n",
    "        assert_equal(sol([1,9,2,8,3,7,4,6,5,5,13,14,11,13,-1],10),6)\n",
    "        assert_equal(sol([1,2,3,1],3),1)\n",
    "        assert_equal(sol([1,3,2,2],4),2)\n",
    "        print 'ALL TEST CASES PASSED'\n",
    "        \n",
    "#Run tests\n",
    "t = TestPair()\n",
    "t.test(unique_pairs2)\n",
    "    "
   ]
  },
  {
   "cell_type": "markdown",
   "metadata": {},
   "source": [
    "# Problem 3\n",
    "\n",
    "### Consider an array of non-negative integers. A second array is formed by shuffling the elements of the first array and deleting a random element. Given these two arrays, find which element is missing in the second array.\n",
    "\n",
    "Here is an example input, the first array is shuffled and the number 5 is removed to construct the second array.\n",
    "\n",
    "Input:\n",
    "\n",
    "finder([1,2,3,4,5,6,7],[3,7,2,1,4,6])\n",
    "\n",
    "Output:\n",
    "\n",
    "5 is the missing number"
   ]
  },
  {
   "cell_type": "code",
   "execution_count": 100,
   "metadata": {
    "collapsed": true
   },
   "outputs": [],
   "source": [
    "def missing_element(input_array, shuffled_array):\n",
    "    \"\"\"Returns the element from input array missing from shuffled array\"\"\"\n",
    "    \n",
    "    return sum(input_array) - sum(shuffled_array)"
   ]
  },
  {
   "cell_type": "code",
   "execution_count": 104,
   "metadata": {
    "collapsed": false
   },
   "outputs": [
    {
     "data": {
      "text/plain": [
       "40"
      ]
     },
     "execution_count": 104,
     "metadata": {},
     "output_type": "execute_result"
    }
   ],
   "source": [
    "missing_element([1,9,3,40],[1,9,3])"
   ]
  },
  {
   "cell_type": "code",
   "execution_count": 108,
   "metadata": {
    "collapsed": false
   },
   "outputs": [
    {
     "name": "stdout",
     "output_type": "stream",
     "text": [
      "Passed all test cases\n"
     ]
    }
   ],
   "source": [
    "from nose.tools import assert_equal\n",
    "\n",
    "class TestMissingElement(object):\n",
    "    \n",
    "    def test(self, function):\n",
    "        assert_equal(function([1,2,3,4],[1,2,3]), 4)\n",
    "        assert_equal(function([20,30,40,50],[20,40,50]), 30)\n",
    "        assert_equal(function([5,5,7,7],[5,7,7]),5)\n",
    "        assert_equal(function([1,2,3,4,5,6,7],[3,7,2,1,4,6]),5)\n",
    "        assert_equal(function([9,8,7,6,5,4,3,2,1],[9,8,7,5,4,3,2,1]),6)\n",
    "        print \"Passed all test cases\"\n",
    "\n",
    "t = TestMissingElement()\n",
    "t.test(missing_element)"
   ]
  },
  {
   "cell_type": "markdown",
   "metadata": {},
   "source": [
    "# Problem 4\n",
    "\n",
    "### Given an array of integers (positive and negative) find the largest continuous sum."
   ]
  },
  {
   "cell_type": "code",
   "execution_count": 120,
   "metadata": {
    "collapsed": true
   },
   "outputs": [],
   "source": [
    "def large_sum(int_array):\n",
    "    \"\"\"Find largest continous sum from array of pos/neg integers\"\"\"\n",
    "    \n",
    "    if len(int_array) == 0:\n",
    "        print \"no array passed\"\n",
    "        return 0\n",
    "    \n",
    "    # only 1 element\n",
    "    if len(int_array) == 1:\n",
    "        return int_array[0]\n",
    "    \n",
    "    pos_nums= []\n",
    "    neg_nums = []\n",
    "    for number in int_array:\n",
    "        if number >=0:\n",
    "            pos_nums.append(number)\n",
    "        else:\n",
    "            neg_nums.append(number)\n",
    "    if len(pos_nums) >= 1: return sum(pos_nums)\n",
    "    else: return sorted(neg_nums, reverse=True)[0]"
   ]
  },
  {
   "cell_type": "code",
   "execution_count": 121,
   "metadata": {
    "collapsed": false
   },
   "outputs": [
    {
     "data": {
      "text/plain": [
       "-1"
      ]
     },
     "execution_count": 121,
     "metadata": {},
     "output_type": "execute_result"
    }
   ],
   "source": [
    "large_sum([-1,-2,-3])"
   ]
  },
  {
   "cell_type": "code",
   "execution_count": 125,
   "metadata": {
    "collapsed": true
   },
   "outputs": [],
   "source": [
    "def large_cont_sum(arr): \n",
    "    \n",
    "    # Check to see if array is length 0\n",
    "    if len(arr)==0: \n",
    "        return 0\n",
    "    \n",
    "    # Start the max and current sum at the first element\n",
    "    max_sum=current_sum=arr[0] \n",
    "    \n",
    "    # For every element in array\n",
    "    for num in arr[1:]: \n",
    "        \n",
    "        # Set current sum as the higher of the two\n",
    "        current_sum=max(current_sum+num, num)\n",
    "        \n",
    "        # Set max as the higher between the currentSum and the current max\n",
    "        max_sum=max(current_sum, max_sum) \n",
    "        \n",
    "    return max_sum "
   ]
  },
  {
   "cell_type": "code",
   "execution_count": 123,
   "metadata": {
    "collapsed": false
   },
   "outputs": [
    {
     "name": "stdout",
     "output_type": "stream",
     "text": [
      "All tests passed\n"
     ]
    }
   ],
   "source": [
    "from nose.tools import assert_equal\n",
    "\n",
    "class TestLargeSum(object):\n",
    "    \n",
    "    def test(self, sol):\n",
    "        assert_equal(sol([-1,-2,-3]), -1)\n",
    "        assert_equal(sol([0]),0)\n",
    "        \n",
    "        print \"All tests passed\"\n",
    "        \n",
    "t = TestLargeSum()\n",
    "t.test(large_sum)"
   ]
  },
  {
   "cell_type": "code",
   "execution_count": 127,
   "metadata": {
    "collapsed": false
   },
   "outputs": [
    {
     "name": "stdout",
     "output_type": "stream",
     "text": [
      "His solution\n",
      "100000 loops, best of 3: 9.46 µs per loop\n",
      "my solution\n",
      "The slowest run took 4.84 times longer than the fastest. This could mean that an intermediate result is being cached \n",
      "100000 loops, best of 3: 6 µs per loop\n",
      " ;) \n"
     ]
    }
   ],
   "source": [
    "test_array = [1,2,4,5,6,40,30,500,-34,-20,4000,-1,-300,0,0,0]\n",
    "\n",
    "print \"His solution\"\n",
    "%timeit large_cont_sum(test_array)\n",
    "\n",
    "print \"my solution\"\n",
    "%timeit large_sum(test_array)\n",
    "\n",
    "print \" ;) \""
   ]
  },
  {
   "cell_type": "markdown",
   "metadata": {},
   "source": [
    "# Problem 5: Sentence Reversal\n",
    "\n",
    "\n",
    "### Given a string of words, reverse all the words. For example:\n",
    "\n",
    "Given:\n",
    "\n",
    "'This is the best'\n",
    "\n",
    "Return:\n",
    "\n",
    "'best the is This'\n",
    "\n",
    "As part of this exercise you should remove all leading and trailing whitespace. So that inputs such as:\n",
    "\n",
    "'  space here'  and 'space here      '\n",
    "\n",
    "both become:\n",
    "\n",
    "'here space'"
   ]
  },
  {
   "cell_type": "code",
   "execution_count": 153,
   "metadata": {
    "collapsed": false
   },
   "outputs": [],
   "source": [
    "def sentence_reversal(sentence):\n",
    "    \"\"\"Given a sentence, sentence, reverse the order of the words\"\"\"\n",
    "    \n",
    "    #return ' '.join(test.strip().split()[::-1])\n",
    "    \n",
    "    # strip leading whitespace\n",
    "    sent = sentence.strip()\n",
    "    words = sentence.split()\n",
    "    reverse_words = []\n",
    "    for i in reversed(range(len(words))):\n",
    "        reverse_words.append(words[i])\n",
    "        \n",
    "        \n",
    "    return ' '.join(reverse_words)\n",
    "    \n",
    "    \n"
   ]
  },
  {
   "cell_type": "code",
   "execution_count": 157,
   "metadata": {
    "collapsed": false
   },
   "outputs": [
    {
     "name": "stdout",
     "output_type": "stream",
     "text": [
      "['test', 'a', 'is', 'this']\n"
     ]
    },
    {
     "data": {
      "text/plain": [
       "'test a is this'"
      ]
     },
     "execution_count": 157,
     "metadata": {},
     "output_type": "execute_result"
    }
   ],
   "source": [
    "test = \"  this is a test\"\n",
    "print test.split()[::-1]\n",
    "sentence_reversal(test)"
   ]
  },
  {
   "cell_type": "code",
   "execution_count": 163,
   "metadata": {
    "collapsed": true
   },
   "outputs": [],
   "source": [
    "def rev_word3(s):\n",
    "    \"\"\"\n",
    "    Manually doing the splits on the spaces.\n",
    "    \"\"\"\n",
    "    \n",
    "    words = []\n",
    "    length = len(s)\n",
    "    spaces = [' ']\n",
    "    \n",
    "    # Index Tracker\n",
    "    i = 0\n",
    "    \n",
    "    # While index is less than length of string\n",
    "    while i < length:\n",
    "        \n",
    "        # If element isn't a space\n",
    "        if s[i] not in spaces:\n",
    "            \n",
    "            # The word starts at this index\n",
    "            word_start = i\n",
    "            \n",
    "            while i < length and s[i] not in spaces:\n",
    "                \n",
    "                # Get index where word ends\n",
    "                i += 1\n",
    "            # Append that word to the list\n",
    "            words.append(s[word_start:i])\n",
    "        # Add to index\n",
    "        i += 1\n",
    "        \n",
    "    # Join the reversed words\n",
    "    return \" \".join(reversed(words))"
   ]
  },
  {
   "cell_type": "code",
   "execution_count": 166,
   "metadata": {
    "collapsed": false
   },
   "outputs": [
    {
     "name": "stdout",
     "output_type": "stream",
     "text": [
      "Passed all tests\n",
      "Passed all tests\n"
     ]
    }
   ],
   "source": [
    "from nose.tools import assert_equal\n",
    "\n",
    "class TestSentenceReversal(object):\n",
    "    \n",
    "    def test(self, sol):\n",
    "        assert_equal(sol(' this is a test'), 'test a is this')\n",
    "        assert_equal(sol('    space before'),'before space')\n",
    "        assert_equal(sol('space after     '),'after space')\n",
    "        assert_equal(sol('   Hello John    how are you   '),'you are how John Hello')\n",
    "        assert_equal(sol('1'),'1')\n",
    "        print \"Passed all tests\"\n",
    "        \n",
    "t = TestSentenceReversal()\n",
    "t.test(rev_word3)\n",
    "t.test(sentence_reversal)"
   ]
  },
  {
   "cell_type": "code",
   "execution_count": 164,
   "metadata": {
    "collapsed": false
   },
   "outputs": [
    {
     "name": "stdout",
     "output_type": "stream",
     "text": [
      "his solution\n",
      "10000 loops, best of 3: 44 µs per loop\n",
      "my solution\n",
      "100000 loops, best of 3: 8.8 µs per loop\n"
     ]
    }
   ],
   "source": [
    "test = \"  this is a very veyr long arry and i am writing it in a shitty way but oh124343 well fuck it@\"\n",
    "\n",
    "print \"his solution\"\n",
    "%timeit rev_word3(test)\n",
    "\n",
    "print \"my solution\"\n",
    "%timeit sentence_reversal(test)"
   ]
  },
  {
   "cell_type": "markdown",
   "metadata": {},
   "source": [
    "# Problem 6: Compression\n",
    "\n",
    "### Given a string in the form 'AAAABBBBCCCCCDDEEEE' compress it to become 'A4B4C5D2E4'\n",
    "\n",
    "* This function should be case-sensitive"
   ]
  },
  {
   "cell_type": "code",
   "execution_count": 222,
   "metadata": {
    "collapsed": true
   },
   "outputs": [],
   "source": [
    "def compression(string):\n",
    "    \"\"\"Compresses a string to its word counts\"\"\"\n",
    "    if len(string) <1:\n",
    "        return \"\"\n",
    "    output = []\n",
    "    current = set()\n",
    "    n = len(string)\n",
    "    for i in xrange(n):\n",
    "        if string[i] not in current:\n",
    "            if i != 0:\n",
    "                output.append(counter)\n",
    "            output.append(string[i])\n",
    "            current.add(string[i])\n",
    "            counter = 1\n",
    "        else:\n",
    "            counter += 1\n",
    "    # add final counter\n",
    "    output.append(counter)\n",
    "            \n",
    "            \n",
    "    return ''.join(str(e) for e in output)"
   ]
  },
  {
   "cell_type": "code",
   "execution_count": 223,
   "metadata": {
    "collapsed": false
   },
   "outputs": [
    {
     "data": {
      "text/plain": [
       "'a1'"
      ]
     },
     "execution_count": 223,
     "metadata": {},
     "output_type": "execute_result"
    }
   ],
   "source": [
    "test = 'a'\n",
    "compression(test)"
   ]
  },
  {
   "cell_type": "code",
   "execution_count": 227,
   "metadata": {
    "collapsed": true
   },
   "outputs": [],
   "source": [
    "def compress2(s):\n",
    "    \"\"\"\n",
    "    This solution compresses without checking. Known as the RunLength Compression algorithm.\n",
    "    \"\"\"\n",
    "    \n",
    "    # Begin Run as empty string\n",
    "    r = \"\"\n",
    "    l = len(s)\n",
    "    \n",
    "    # Check for length 0\n",
    "    if l == 0:\n",
    "        return \"\"\n",
    "    \n",
    "    # Check for length 1\n",
    "    if l == 1:\n",
    "        return s + \"1\"\n",
    "    \n",
    "    #Intialize Values\n",
    "    last = s[0]\n",
    "    cnt = 1\n",
    "    i = 1\n",
    "    \n",
    "    while i < l:\n",
    "        \n",
    "        # Check to see if it is the same letter\n",
    "        if s[i] == s[i - 1]: \n",
    "            # Add a count if same as previous\n",
    "            cnt += 1\n",
    "        else:\n",
    "            # Otherwise store the previous data\n",
    "            r = r + s[i - 1] + str(cnt)\n",
    "            cnt = 1\n",
    "            \n",
    "        # Add to index count to terminate while loop\n",
    "        i += 1\n",
    "    \n",
    "    # Put everything back into run\n",
    "    r = r + s[i - 1] + str(cnt)\n",
    "    \n",
    "    return r"
   ]
  },
  {
   "cell_type": "code",
   "execution_count": 229,
   "metadata": {
    "collapsed": false
   },
   "outputs": [
    {
     "name": "stdout",
     "output_type": "stream",
     "text": [
      "Passed all tests\n",
      "Passed all tests\n"
     ]
    }
   ],
   "source": [
    "from nose.tools import assert_equal\n",
    "\n",
    "class TestCompression(object):\n",
    "    \n",
    "    def test(self, sol):\n",
    "        assert_equal(sol('aaaa'),'a4')\n",
    "        assert_equal(sol('AAaaBBZZ'), 'A2a2B2Z2')\n",
    "        assert_equal(sol('a'),'a1')\n",
    "        assert_equal(sol(''), '')\n",
    "        assert_equal(sol('AABBCC'), 'A2B2C2')\n",
    "        assert_equal(sol('AAABCCDDDDD'), 'A3B1C2D5')\n",
    "        print \"Passed all tests\"\n",
    "        \n",
    "t = TestCompression()\n",
    "t.test(compression)\n",
    "t.test(compress2)"
   ]
  },
  {
   "cell_type": "code",
   "execution_count": 231,
   "metadata": {
    "collapsed": false
   },
   "outputs": [
    {
     "name": "stdout",
     "output_type": "stream",
     "text": [
      "my solution\n",
      "10000 loops, best of 3: 27 µs per loop\n",
      "RunLength Compression Algorithm solution\n",
      "10000 loops, best of 3: 21.6 µs per loop\n"
     ]
    }
   ],
   "source": [
    "test = 'AAABCCDDDDDaaaaaaaaaaaaaaaaangejolk'\n",
    "print \"my solution\"\n",
    "%timeit compression(test)\n",
    "\n",
    "print \"RunLength Compression Algorithm solution\"\n",
    "%timeit compress2(test)"
   ]
  },
  {
   "cell_type": "code",
   "execution_count": null,
   "metadata": {
    "collapsed": true
   },
   "outputs": [],
   "source": []
  },
  {
   "cell_type": "code",
   "execution_count": null,
   "metadata": {
    "collapsed": true
   },
   "outputs": [],
   "source": []
  },
  {
   "cell_type": "code",
   "execution_count": 240,
   "metadata": {
    "collapsed": true
   },
   "outputs": [],
   "source": [
    "def duplicates(string):\n",
    "    \"\"\"Returns False if there are any duplicates in the string else True\"\"\"\n",
    "    \n",
    "    #return len(set(string)) == len(string)\n",
    "    \n",
    "    chars = set()\n",
    "    n = len(string)\n",
    "    for i in xrange(n):\n",
    "        if string[i] in chars:\n",
    "            return False\n",
    "        chars.add(string[i])\n",
    "        \n",
    "    return True"
   ]
  },
  {
   "cell_type": "code",
   "execution_count": 241,
   "metadata": {
    "collapsed": false
   },
   "outputs": [
    {
     "data": {
      "text/plain": [
       "False"
      ]
     },
     "execution_count": 241,
     "metadata": {},
     "output_type": "execute_result"
    }
   ],
   "source": [
    "duplicates('abca')"
   ]
  },
  {
   "cell_type": "code",
   "execution_count": 242,
   "metadata": {
    "collapsed": false
   },
   "outputs": [
    {
     "name": "stdout",
     "output_type": "stream",
     "text": [
      "Passed all tests\n"
     ]
    }
   ],
   "source": [
    "from nose.tools import assert_equal\n",
    "\n",
    "class TestDuplicates(object):\n",
    "    \n",
    "    \n",
    "    def test(self, sol):\n",
    "        assert_equal(sol('aa'), False)\n",
    "        assert_equal(sol('abc'), True)\n",
    "        assert_equal(sol('ABCDEFGHTBA'), False)\n",
    "        assert_equal(sol('a'), True)\n",
    "        print \"Passed all tests\"\n",
    "        \n",
    "t = TestDuplicates()\n",
    "t.test(duplicates)"
   ]
  },
  {
   "cell_type": "code",
   "execution_count": null,
   "metadata": {
    "collapsed": true
   },
   "outputs": [],
   "source": []
  }
 ],
 "metadata": {
  "kernelspec": {
   "display_name": "Python 2",
   "language": "python",
   "name": "python2"
  },
  "language_info": {
   "codemirror_mode": {
    "name": "ipython",
    "version": 2
   },
   "file_extension": ".py",
   "mimetype": "text/x-python",
   "name": "python",
   "nbconvert_exporter": "python",
   "pygments_lexer": "ipython2",
   "version": "2.7.12"
  }
 },
 "nbformat": 4,
 "nbformat_minor": 0
}
