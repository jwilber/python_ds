{
 "cells": [
  {
   "cell_type": "markdown",
   "metadata": {},
   "source": [
    "# Singly Linked-List\n",
    "\n",
    "A linked list is a collection of nodes that form a linear sequence.\n",
    "\n",
    "Each node stores a reference to an object that is an element of the sequence, as well as a reference to the next node in the list.\n",
    "\n",
    "A linked list instance maintains a member known as the head that identifies the first node of the list. A tail member is also maintained (and used in doubley linked lists) that identifies the last node in the list. The head member references the first node in the list and points to the next node in the sequence, while the tail references the final node and points to null.\n",
    "\n",
    "Below, we implement a singly linked list."
   ]
  },
  {
   "cell_type": "code",
   "execution_count": 49,
   "metadata": {
    "collapsed": false
   },
   "outputs": [],
   "source": [
    "# Singly Linked List Implementation as collection of nodes\n",
    "# First - implement a node class\n",
    "\n",
    "\n",
    "class Node(object):\n",
    "    \n",
    "    def __init__(self, value):\n",
    "        self.value = value;\n",
    "        self.nextNode = None;"
   ]
  },
  {
   "cell_type": "code",
   "execution_count": 50,
   "metadata": {
    "collapsed": true
   },
   "outputs": [],
   "source": [
    "# Now, just string the nodes together\n",
    "\n",
    "a = Node(5); b = Node(3); c = Node(10)"
   ]
  },
  {
   "cell_type": "code",
   "execution_count": 51,
   "metadata": {
    "collapsed": true
   },
   "outputs": [],
   "source": [
    "a.nextNode = b"
   ]
  },
  {
   "cell_type": "code",
   "execution_count": 52,
   "metadata": {
    "collapsed": true
   },
   "outputs": [],
   "source": [
    "b.nextNode = c"
   ]
  },
  {
   "cell_type": "code",
   "execution_count": 54,
   "metadata": {
    "collapsed": false
   },
   "outputs": [
    {
     "data": {
      "text/plain": [
       "10"
      ]
     },
     "execution_count": 54,
     "metadata": {},
     "output_type": "execute_result"
    }
   ],
   "source": [
    "a.nextNode.nextNode.value"
   ]
  },
  {
   "cell_type": "code",
   "execution_count": 101,
   "metadata": {
    "collapsed": true
   },
   "outputs": [],
   "source": [
    "# Second way, use node class to implement singly linked list\n",
    "\n",
    "class ssl(object):\n",
    "    \n",
    "    def __init__(self):\n",
    "        self.items = []\n",
    "        \n",
    "    def isEmpty(self):\n",
    "        return self.items == []\n",
    "    \n",
    "    def add_head(self, node):\n",
    "        self.items.insert(0, node)\n",
    "        if len(self.items) == 1:\n",
    "            node.nextNode = None\n",
    "        else:\n",
    "            node.nextNode = self.items[1]\n",
    "        \n",
    "    def head(self):\n",
    "        if self.isEmpty():\n",
    "            return \"empty linked list\"\n",
    "        else:\n",
    "            return self.items[0]\n",
    "        \n",
    "    def tail(self):\n",
    "        if self.isEmpty():\n",
    "            return \"empty linked list\"\n",
    "        else:\n",
    "            return self.items[len(self.items)-1]\n",
    "            "
   ]
  },
  {
   "cell_type": "code",
   "execution_count": 102,
   "metadata": {
    "collapsed": true
   },
   "outputs": [],
   "source": [
    "s = ssl()"
   ]
  },
  {
   "cell_type": "code",
   "execution_count": 103,
   "metadata": {
    "collapsed": false
   },
   "outputs": [],
   "source": [
    "s.add_head(Node(4))\n",
    "s.add_head(Node(5))\n",
    "s.add_head(Node(10))\n",
    "s.add_head(Node(11))\n"
   ]
  },
  {
   "cell_type": "code",
   "execution_count": 104,
   "metadata": {
    "collapsed": false
   },
   "outputs": [],
   "source": [
    "# get node values\n",
    "node_values = [node.value if type(node) == Node else node for node in s.items]"
   ]
  },
  {
   "cell_type": "code",
   "execution_count": 105,
   "metadata": {
    "collapsed": false
   },
   "outputs": [
    {
     "data": {
      "text/plain": [
       "[11, 10, 5, 4]"
      ]
     },
     "execution_count": 105,
     "metadata": {},
     "output_type": "execute_result"
    }
   ],
   "source": [
    "# view\n",
    "node_values"
   ]
  },
  {
   "cell_type": "code",
   "execution_count": 106,
   "metadata": {
    "collapsed": false
   },
   "outputs": [
    {
     "name": "stdout",
     "output_type": "stream",
     "text": [
      "11\n"
     ]
    }
   ],
   "source": [
    "print s.head().value"
   ]
  },
  {
   "cell_type": "code",
   "execution_count": 108,
   "metadata": {
    "collapsed": false
   },
   "outputs": [
    {
     "name": "stdout",
     "output_type": "stream",
     "text": [
      "4\n"
     ]
    }
   ],
   "source": [
    "print s.tail().value"
   ]
  }
 ],
 "metadata": {
  "kernelspec": {
   "display_name": "Python 2",
   "language": "python",
   "name": "python2"
  },
  "language_info": {
   "codemirror_mode": {
    "name": "ipython",
    "version": 2
   },
   "file_extension": ".py",
   "mimetype": "text/x-python",
   "name": "python",
   "nbconvert_exporter": "python",
   "pygments_lexer": "ipython2",
   "version": "2.7.12"
  }
 },
 "nbformat": 4,
 "nbformat_minor": 0
}
