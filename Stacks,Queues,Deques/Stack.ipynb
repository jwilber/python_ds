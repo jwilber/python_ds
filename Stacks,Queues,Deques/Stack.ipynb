{
 "cells": [
  {
   "cell_type": "markdown",
   "metadata": {},
   "source": [
    "# Stack Implementation\n",
    "\n",
    "**Stack**: Ordered collection of items where items are added to and removed from the *\"top\"* end.\n",
    "\n",
    "Stacks are **LIFO**: Last-In-First-Out.\n",
    "\n",
    "Our stack class implementation will have the following methods:\n",
    "\n",
    "* **push(item)**: adds item to top of stack. Returns nothing\n",
    "* **pop()**: removes top item from stack and returns it.\n",
    "* **peek()**: Returns top item from stack but does not remove it from the stack.\n",
    "* **isEmpty()**: Returns true if the stack is empty, else False\n",
    "* **size()**: Returns the number of elements in the stack as an integer"
   ]
  },
  {
   "cell_type": "code",
   "execution_count": 13,
   "metadata": {
    "collapsed": false
   },
   "outputs": [],
   "source": [
    "class Stack(object):\n",
    "    \n",
    "    def __init__(self):\n",
    "        self.items = []\n",
    "        \n",
    "    def isEmpty(self):\n",
    "        return self.items == []\n",
    "    \n",
    "    def push(self, item):\n",
    "        self.items.append(item)\n",
    "        \n",
    "    def pop(self):\n",
    "        if self.isEmpty():\n",
    "            return\n",
    "        last_element = self.items[len(self.items)-1]\n",
    "        del self.items[len(self.items)-1]\n",
    "        return last_element\n",
    "    \n",
    "    def peek(self):\n",
    "        if self.isEmpty():\n",
    "            return []\n",
    "        return self.items[len(self.items)-1]\n",
    "    \n",
    "    def size(self):\n",
    "        return len(self.items)\n",
    "    "
   ]
  },
  {
   "cell_type": "code",
   "execution_count": 28,
   "metadata": {
    "collapsed": false
   },
   "outputs": [
    {
     "name": "stdout",
     "output_type": "stream",
     "text": [
      "Popped out:  True\n",
      "New stack size:  5\n",
      "Popped out:  3\n",
      "New stack size:  4\n",
      "Popped out:  test\n",
      "New stack size:  3\n",
      "Popped out:  200\n",
      "New stack size:  2\n",
      "Popped out:  4\n",
      "New stack size:  1\n",
      "Popped out:  2\n",
      "New stack size:  0\n",
      "[]\n"
     ]
    },
    {
     "data": {
      "text/plain": [
       "True"
      ]
     },
     "execution_count": 28,
     "metadata": {},
     "output_type": "execute_result"
    }
   ],
   "source": [
    "# Demo class instance\n",
    "\n",
    "s.push(2); s.push(4); s.push(200); s.push('test'); s.push(3); s.push(True)\n",
    "\n",
    "for _ in xrange(s.size()):\n",
    "    print \"Popped out: \", s.pop()\n",
    "    print \"New stack size: \", s.size()\n",
    "    \n",
    "print s.peek()\n",
    "s.isEmpty()"
   ]
  },
  {
   "cell_type": "code",
   "execution_count": null,
   "metadata": {
    "collapsed": true
   },
   "outputs": [],
   "source": []
  }
 ],
 "metadata": {
  "kernelspec": {
   "display_name": "Python 2",
   "language": "python",
   "name": "python2"
  },
  "language_info": {
   "codemirror_mode": {
    "name": "ipython",
    "version": 2
   },
   "file_extension": ".py",
   "mimetype": "text/x-python",
   "name": "python",
   "nbconvert_exporter": "python",
   "pygments_lexer": "ipython2",
   "version": "2.7.12"
  }
 },
 "nbformat": 4,
 "nbformat_minor": 0
}
