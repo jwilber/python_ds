{
 "cells": [
  {
   "cell_type": "markdown",
   "metadata": {},
   "source": [
    "# Queue Impementation\n",
    "\n",
    "A **queue** is an ordered collection of elements where items are added to the *rear* and removed at the *front*. \n",
    "\n",
    "It is **FIFO**: First-In-First-Out\n",
    "\n",
    "\n",
    "Our Queue class has the following properties:\n",
    "\n",
    "* **enqueue(item)**: Adds item to the rear of the queue\n",
    "* **dequeue()**: Removes item from the top of the queue\n",
    "* **isEmpty()**: Returns True if the queue is empty else False\n",
    "* **size()**: Returns the size of the queue"
   ]
  },
  {
   "cell_type": "code",
   "execution_count": 12,
   "metadata": {
    "collapsed": true
   },
   "outputs": [],
   "source": [
    "class Queue(object):\n",
    "    \n",
    "    def __init__(self):\n",
    "        self.items = []\n",
    "    \n",
    "    def size(self):\n",
    "        return len(self.items)\n",
    "    \n",
    "    def enqueue(self, item):\n",
    "        self.items.append(item)\n",
    "        \n",
    "    def dequeue(self):\n",
    "        if self.isEmpty():\n",
    "            return\n",
    "        elm = self.items[0]\n",
    "        del self.items[0]\n",
    "        return elm\n",
    "    \n",
    "    def isEmpty(self):\n",
    "        return self.items == []\n",
    "    "
   ]
  },
  {
   "cell_type": "code",
   "execution_count": 9,
   "metadata": {
    "collapsed": false
   },
   "outputs": [
    {
     "name": "stdout",
     "output_type": "stream",
     "text": [
      "0\n",
      "True\n"
     ]
    }
   ],
   "source": [
    "q = Queue()\n",
    "\n",
    "print q.size()\n",
    "print q.isEmpty()"
   ]
  },
  {
   "cell_type": "code",
   "execution_count": 11,
   "metadata": {
    "collapsed": false
   },
   "outputs": [
    {
     "name": "stdout",
     "output_type": "stream",
     "text": [
      "[4, 5, 6, 8, 100]\n",
      "Current queue:  [4, 5, 6, 8, 100]\n",
      "Dequeue  4\n",
      "Current queue:  [5, 6, 8, 100]\n",
      "Dequeue  5\n",
      "Current queue:  [6, 8, 100]\n",
      "Dequeue  6\n",
      "Current queue:  [8, 100]\n",
      "Dequeue  8\n",
      "Current queue:  [100]\n",
      "Dequeue  100\n",
      "True\n"
     ]
    }
   ],
   "source": [
    "q.enqueue(4); q.enqueue(5); q.enqueue(6);q.enqueue(8); q.enqueue(100)\n",
    "print q.items\n",
    "for _ in range(q.size()):\n",
    "    print \"Current queue: \", q.items\n",
    "    print \"Dequeue \", q.dequeue()\n",
    "    \n",
    "print q.isEmpty()"
   ]
  },
  {
   "cell_type": "code",
   "execution_count": null,
   "metadata": {
    "collapsed": true
   },
   "outputs": [],
   "source": []
  }
 ],
 "metadata": {
  "kernelspec": {
   "display_name": "Python 2",
   "language": "python",
   "name": "python2"
  },
  "language_info": {
   "codemirror_mode": {
    "name": "ipython",
    "version": 2
   },
   "file_extension": ".py",
   "mimetype": "text/x-python",
   "name": "python",
   "nbconvert_exporter": "python",
   "pygments_lexer": "ipython2",
   "version": "2.7.12"
  }
 },
 "nbformat": 4,
 "nbformat_minor": 0
}
